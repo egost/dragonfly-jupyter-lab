{
 "cells": [
  {
   "cell_type": "markdown",
   "metadata": {},
   "source": [
    "# Medieval Math Mock Data\n",
    "## Mock data for development"
   ]
  },
  {
   "cell_type": "markdown",
   "metadata": {},
   "source": [
    "## Imports"
   ]
  },
  {
   "cell_type": "code",
   "execution_count": 1,
   "metadata": {},
   "outputs": [],
   "source": [
    "# One time setup\n",
    "#!sudo apt-get update\n",
    "#!sudo apt-get install -y libmariadbclient-dev\n",
    "#!pip install --upgrade pip\n",
    "#!pip install mysqlclient\n",
    "#!pip install Flask Flask-SQLAlchemy\n",
    "#!pip install factory_boy\n",
    "\n",
    "from datetime import datetime\n",
    "import pandas as pd\n",
    "from IPython.display import display"
   ]
  },
  {
   "cell_type": "markdown",
   "metadata": {},
   "source": [
    "# Flask"
   ]
  },
  {
   "cell_type": "markdown",
   "metadata": {},
   "source": [
    "## Objects"
   ]
  },
  {
   "cell_type": "code",
   "execution_count": 2,
   "metadata": {},
   "outputs": [],
   "source": [
    "from schema import *"
   ]
  },
  {
   "cell_type": "markdown",
   "metadata": {},
   "source": [
    "# Query Test"
   ]
  },
  {
   "cell_type": "code",
   "execution_count": 3,
   "metadata": {},
   "outputs": [
    {
     "data": {
      "text/plain": [
       "None"
      ]
     },
     "metadata": {},
     "output_type": "display_data"
    }
   ],
   "source": [
    "from sqlalchemy.orm import lazyload, raiseload\n",
    "\n",
    "def Test():\n",
    "    p = Player.query.filter_by(name='eu').first()\n",
    "    # print_query(School.query.all())\n",
    "    \n",
    "    \n",
    "    # display(Player.__dict__)\n",
    "    display(Session.query.filter_by(id=p.id).first())\n",
    "    #display(Player.query.join(Player.contactId).first())\n",
    "    # c = Contact.query.filter_by(id=p.contactId).first()\n",
    "    # display(c.__dict__)\n",
    "    # print(Address.__name__)\n",
    "\n",
    "def print_query(q):\n",
    "    for elem in q:\n",
    "        print(elem.name)\n",
    "        for k, v in elem.__dict__.items():\n",
    "            print(k , v)\n",
    "            \n",
    "Test()"
   ]
  },
  {
   "cell_type": "markdown",
   "metadata": {},
   "source": [
    "# Object Creation"
   ]
  },
  {
   "cell_type": "code",
   "execution_count": 4,
   "metadata": {},
   "outputs": [],
   "source": [
    "def create_player():\n",
    "    tom = Player(name='Tom', grade='5')\n",
    "    db.session.add(tom)\n",
    "    db.session.commit()"
   ]
  },
  {
   "cell_type": "markdown",
   "metadata": {},
   "source": [
    "# Creating Mock Data for Testing"
   ]
  },
  {
   "cell_type": "code",
   "execution_count": 5,
   "metadata": {},
   "outputs": [
    {
     "name": "stdout",
     "output_type": "stream",
     "text": [
      "Jonathan\n",
      "Russell\n",
      "51029 Kelly Pines\n",
      "Apt. 672\n",
      "59505\n",
      "South Samuelmouth\n",
      "North Carolina\n",
      "Garrett, Clark and Morgan\n",
      "Oncologist\n",
      "fuchsia\n",
      "kennethliu@example.com\n",
      "jones-rogers.biz\n",
      "4\n",
      "True\n",
      "3bvozp\n",
      "2018-10-13 03:12:51\n",
      "00:36:03\n",
      "['Student']\n"
     ]
    }
   ],
   "source": [
    "from faker import Faker\n",
    "    \n",
    "                \n",
    "fake = Faker()\n",
    "# Makes the data\n",
    "fake.seed_instance(4321)\n",
    "\n",
    "print(fake.first_name())\n",
    "print(fake.last_name())\n",
    "print(fake.street_address())\n",
    "print(fake.secondary_address())\n",
    "print(fake.zipcode())\n",
    "print(fake.city())\n",
    "print(fake.state())\n",
    "print(fake.company())\n",
    "print(fake.job())\n",
    "print(fake.safe_color_name())\n",
    "print(fake.ascii_safe_email())\n",
    "print(fake.domain_name())\n",
    "print(fake.random_int(min=1, max=12))\n",
    "print(fake.pybool())\n",
    "print(fake.password(length=6, special_chars=False, digits=True, upper_case=False, lower_case=True))\n",
    "print(fake.past_datetime(start_date=\"-200d\", tzinfo=None))\n",
    "print(fake.time(pattern=\"%H:%M:%S\", end_datetime=None))\n",
    "print(fake.random_choices(elements=('Student','Parent','Teacher'), length=1))"
   ]
  },
  {
   "cell_type": "markdown",
   "metadata": {},
   "source": [
    "# Plotting"
   ]
  },
  {
   "cell_type": "raw",
   "metadata": {},
   "source": [
    "import matplotlib.pyplot as plt\n",
    "from ipywidgets.widgets import interact\n",
    "\n",
    "#def market(op_cost_m, market_size, individual_calls_y):\n",
    "#    s = []\n",
    "#    for market_share in range(10, 50, 1):\n",
    "#        clients_y = market_share/100 * market_size\n",
    "#        calls_y = clients_y * individual_calls_y\n",
    "#        calls_m = calls_y / 12\n",
    "#        avg_sale = op_cost_m / calls_m\n",
    "#        \n",
    "#        s.append({\n",
    "#            'calls_y': calls_y,\n",
    "#            'clients_y': clients_y,\n",
    "#            'market_share': market_share,\n",
    "#            'avg_sale': avg_sale,\n",
    "#        })\n",
    "#\n",
    "#    return pd.DataFrame(s)\n",
    "\n",
    "#@interact(individual_calls_y=(0.5,6.0,0.5), op_cost_m=(1250,5000,250))\n",
    "def playtime_plot(entry, time):\n",
    "    \n",
    "    #s = market(op_cost_m, market_size, individual_calls_y)\n",
    "    \n",
    "    _ = plt.plot(entry, time, '-o')\n",
    "    plt.title('Title'.format())\n",
    "    plt.xlabel('Entry')\n",
    "    #plt.ylim(0, s.avg_sale.max() + 50)\n",
    "    plt.ylabel('Time (s)')\n",
    "    plt.grid()\n",
    "    plt.rcParams[\"figure.figsize\"] = (10,5)\n",
    "\n",
    "playtime_plot(times.index, times.value)"
   ]
  },
  {
   "cell_type": "code",
   "execution_count": null,
   "metadata": {},
   "outputs": [],
   "source": [
    "\n"
   ]
  },
  {
   "cell_type": "code",
   "execution_count": null,
   "metadata": {},
   "outputs": [],
   "source": []
  }
 ],
 "metadata": {
  "kernelspec": {
   "display_name": "Python 3",
   "language": "python",
   "name": "python3"
  },
  "language_info": {
   "codemirror_mode": {
    "name": "ipython",
    "version": 3
   },
   "file_extension": ".py",
   "mimetype": "text/x-python",
   "name": "python",
   "nbconvert_exporter": "python",
   "pygments_lexer": "ipython3",
   "version": "3.6.3"
  }
 },
 "nbformat": 4,
 "nbformat_minor": 2
}
