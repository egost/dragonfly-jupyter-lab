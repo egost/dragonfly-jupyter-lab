{
 "cells": [
  {
   "cell_type": "markdown",
   "metadata": {},
   "source": [
    "# Personal budget"
   ]
  },
  {
   "cell_type": "code",
   "execution_count": 51,
   "metadata": {},
   "outputs": [
    {
     "name": "stdout",
     "output_type": "stream",
     "text": [
      "Left Over Budget\n",
      "----------------\n"
     ]
    },
    {
     "data": {
      "text/plain": [
       "-335.0"
      ]
     },
     "metadata": {},
     "output_type": "display_data"
    }
   ],
   "source": [
    "income_m = 700*4.3 # weekly income\n",
    "\n",
    "subscriptions = {\n",
    "        'netflix':10,\n",
    "        'spotify':15,\n",
    "        'amazon':int(120/12),\n",
    "        # TODO: assign for future\n",
    "        'upwork':0,\n",
    "        # TODO: unsubscribe\n",
    "        'crunchyroll':10,\n",
    "        'github':10,\n",
    "        'vultr':5,\n",
    "        'linkedin':30,\n",
    "        'hbogo':0,\n",
    "        'microsoft':10,\n",
    "    }\n",
    "\n",
    "expenses_chart_m = {\n",
    "    'gas': 80,\n",
    "    'rent': int(1000/2),\n",
    "    'insurance': {\n",
    "        'health': 0,\n",
    "        'car': int(600/6)\n",
    "    },\n",
    "    'loans': 700,\n",
    "    'credit_card': 400,\n",
    "    'food': {\n",
    "        'restaurants': 25*20,\n",
    "        'groceries': 300,\n",
    "    },\n",
    "    'internet': int(100/2),\n",
    "    'phone': int(330/2),\n",
    "    'social': 200, # alchohol, gifts\n",
    "    'flight': int(300/2),\n",
    "    'outsourcing': 100,\n",
    "    'subscriptions': subscriptions\n",
    "}\n",
    "\n",
    "from tools import flatten\n",
    "\n",
    "expenses_m = sum(flatten(expenses_chart_m).values())\n",
    "\n",
    "print(\"Left Over Budget\")\n",
    "print(\"----------------\")\n",
    "display(income_m - expenses_m)\n"
   ]
  },
  {
   "cell_type": "code",
   "execution_count": null,
   "metadata": {},
   "outputs": [],
   "source": []
  },
  {
   "cell_type": "code",
   "execution_count": null,
   "metadata": {},
   "outputs": [],
   "source": []
  }
 ],
 "metadata": {
  "kernelspec": {
   "display_name": "Python 3",
   "language": "python",
   "name": "python3"
  },
  "language_info": {
   "codemirror_mode": {
    "name": "ipython",
    "version": 3
   },
   "file_extension": ".py",
   "mimetype": "text/x-python",
   "name": "python",
   "nbconvert_exporter": "python",
   "pygments_lexer": "ipython3",
   "version": "3.6.3"
  }
 },
 "nbformat": 4,
 "nbformat_minor": 2
}
