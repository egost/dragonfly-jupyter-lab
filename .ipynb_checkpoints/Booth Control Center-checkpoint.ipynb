{
 "cells": [
  {
   "cell_type": "code",
   "execution_count": 24,
   "metadata": {},
   "outputs": [],
   "source": [
    "import requests\n",
    "import pandas as pd\n",
    "from flask import jsonify\n",
    "API_URL = 'http://lucerna-api.herokuapp.com/api'\n",
    "CLASSROOM_NAME = 'Tech & Beer'\n",
    "SCHOOL_NAME = 'Lucerna Studios'"
   ]
  },
  {
   "cell_type": "code",
   "execution_count": 25,
   "metadata": {},
   "outputs": [
    {
     "data": {
      "text/html": [
       "<div>\n",
       "<style scoped>\n",
       "    .dataframe tbody tr th:only-of-type {\n",
       "        vertical-align: middle;\n",
       "    }\n",
       "\n",
       "    .dataframe tbody tr th {\n",
       "        vertical-align: top;\n",
       "    }\n",
       "\n",
       "    .dataframe thead th {\n",
       "        text-align: right;\n",
       "    }\n",
       "</style>\n",
       "<table border=\"1\" class=\"dataframe\">\n",
       "  <thead>\n",
       "    <tr style=\"text-align: right;\">\n",
       "      <th></th>\n",
       "      <th>id</th>\n",
       "      <th>name</th>\n",
       "      <th>school_id</th>\n",
       "    </tr>\n",
       "  </thead>\n",
       "  <tbody>\n",
       "    <tr>\n",
       "      <th>0</th>\n",
       "      <td>5</td>\n",
       "      <td>Tech &amp; Beer</td>\n",
       "      <td>4</td>\n",
       "    </tr>\n",
       "  </tbody>\n",
       "</table>\n",
       "</div>"
      ],
      "text/plain": [
       "   id         name  school_id\n",
       "0   5  Tech & Beer          4"
      ]
     },
     "metadata": {},
     "output_type": "display_data"
    }
   ],
   "source": [
    "r = requests.get('{}/classroom'.format(API_URL))\n",
    "classrooms = pd.DataFrame(r.json()['classrooms'])\n",
    "display(classrooms)"
   ]
  },
  {
   "cell_type": "code",
   "execution_count": 26,
   "metadata": {},
   "outputs": [
    {
     "data": {
      "text/plain": [
       "id                     5\n",
       "name         Tech & Beer\n",
       "school_id              4\n",
       "Name: 0, dtype: object"
      ]
     },
     "metadata": {},
     "output_type": "display_data"
    }
   ],
   "source": [
    "classroom = classrooms[classrooms.name == CLASSROOM_NAME].iloc[0]\n",
    "display(classroom)"
   ]
  },
  {
   "cell_type": "code",
   "execution_count": 27,
   "metadata": {},
   "outputs": [
    {
     "data": {
      "text/plain": [
       "'Lucerna Studios'"
      ]
     },
     "metadata": {},
     "output_type": "display_data"
    }
   ],
   "source": [
    "r = requests.get('{}/school/{}'.format(API_URL, classroom.school_id))\n",
    "school = r.json()\n",
    "display(school['name'])"
   ]
  },
  {
   "cell_type": "markdown",
   "metadata": {},
   "source": [
    "# TOTAL QUESTIONS FOR BOOTH"
   ]
  },
  {
   "cell_type": "code",
   "execution_count": 87,
   "metadata": {},
   "outputs": [
    {
     "name": "stdout",
     "output_type": "stream",
     "text": [
      ".\n",
      "0 days 00:04:36\n",
      ".\n",
      "0 days 00:35:13\n",
      ".\n",
      "0 days 00:01:30\n",
      ".\n",
      "0 days 00:00:41\n",
      ".\n",
      "0 days 00:03:34\n",
      ".\n",
      "0 days 00:00:00\n",
      ".\n",
      "0 days 00:11:04\n",
      ".\n",
      "0 days 00:06:28\n",
      ".\n",
      "0 days 00:06:17\n",
      ".\n",
      "0 days 00:06:14\n",
      ".\n",
      "0 days 00:07:31\n",
      ".\n",
      "0 days 00:02:46\n",
      ".\n",
      "0 days 00:31:29\n",
      ".\n",
      "0 days 00:07:53\n",
      ".\n",
      "0 days 00:03:37\n",
      ".\n",
      "0 days 07:27:58\n",
      ".\n",
      "0 days 00:04:45\n",
      ".\n",
      "0 days 00:00:50\n",
      "Correct answers: 395\n",
      "Incorrect answers: 16\n",
      "Avg correct answers: 21.944444444444443\n"
     ]
    }
   ],
   "source": [
    "import datetime\n",
    "\n",
    "def total_questions(classroom_id, player_id_min=76664226):\n",
    "    CORRECT = 0\n",
    "    INCORRECT = 0\n",
    "    ROUNDS = 0\n",
    "    PLAYTIME = 0\n",
    "\n",
    "    r = requests.get('{}/classroom/{}/player'.format(API_URL, classroom.id))\n",
    "    if r.status_code != 200:\n",
    "        print('ERROR: Getting players in classroom failed.')\n",
    "        return -1\n",
    "    players = pd.DataFrame(r.json()['players'])\n",
    "    players = players[players.id > player_id_min]\n",
    "    for player_id in players.id:\n",
    "        r = requests.get('{}/player/{}/session'.format(API_URL, player_id))\n",
    "        if r.status_code != 200:\n",
    "            print('ERROR: Getting sessions for player failed.')\n",
    "            return -1\n",
    "        sessions = pd.DataFrame(r.json()['sessions'])\n",
    "        for session_id in sessions.id:\n",
    "            r = requests.get('{}/session/{}/round'.format(API_URL, session_id))\n",
    "            if r.status_code != 200:\n",
    "                print('ERROR: Getting rounds for session failed.')\n",
    "                return -1\n",
    "            rounds = pd.DataFrame(r.json()['rounds'])\n",
    "            if 'correct' in rounds:\n",
    "                last_round = rounds.sort_values('stop_time', ascending=False).iloc[0]\n",
    "                first_round = rounds.sort_values('stop_time', ascending=False).iloc[-1]\n",
    "                print('.')\n",
    "                CORRECT += int(last_round.correct)\n",
    "                INCORRECT += int(last_round.incorrect)\n",
    "                ROUNDS += 1\n",
    "                PLAYTIME = pd.to_datetime(last_round.stop_time) - pd.to_datetime(first_round.stop_time)\n",
    "                print(PLAYTIME)\n",
    "\n",
    "    print('Correct answers: {}'.format(CORRECT))\n",
    "    print('Incorrect answers: {}'.format(INCORRECT))\n",
    "    print('Avg correct answers: {}'.format(CORRECT/ROUNDS))\n",
    "    \n",
    "total_questions(classroom.id)"
   ]
  },
  {
   "cell_type": "code",
   "execution_count": 21,
   "metadata": {},
   "outputs": [
    {
     "data": {
      "text/plain": [
       "{'classroom_id': None,\n",
       " 'contact_id': 9,\n",
       " 'game_id': 'None',\n",
       " 'grade': 'None',\n",
       " 'guardian_id': None,\n",
       " 'highscore': None,\n",
       " 'id': 76658760,\n",
       " 'letter_grade': '',\n",
       " 'levels_unlocked': 'None',\n",
       " 'name': 'Creepy Dude'}"
      ]
     },
     "execution_count": 21,
     "metadata": {},
     "output_type": "execute_result"
    }
   ],
   "source": [
    "r = requests.post('{}/classroom'.format(API_URL), json={'name':CLASSROOM_NAME})\n",
    "r.json()\n",
    "\n",
    "new_player = {\n",
    "    'name':'Creepy Dude',\n",
    "    'contact': {\n",
    "        'first_name':'Creepy',\n",
    "        'last_name':'Dude',\n",
    "        'login': {\n",
    "            'email':'creepydude@gmail.com'\n",
    "        }\n",
    "    }\n",
    "}\n",
    "\n",
    "r = requests.post('{}/player'.format(API_URL), json=new_player)\n",
    "r.json()"
   ]
  },
  {
   "cell_type": "code",
   "execution_count": 23,
   "metadata": {},
   "outputs": [],
   "source": [
    "r = requests.get('{}/contact'.format(API_URL))"
   ]
  },
  {
   "cell_type": "code",
   "execution_count": 92,
   "metadata": {},
   "outputs": [
    {
     "name": "stdout",
     "output_type": "stream",
     "text": [
      "Name: Sam, Email: guardin26@gmail.com\n",
      "Name: Connor Breeding, Email: connorbreeding@gmail.com\n",
      "Name: Bri, Email: hello@lucernastudios.com\n",
      "Name: Taz, Email: stalsani@gmail.com\n",
      "Name: Daniel, Email: daniel.moret27@gmail.com\n",
      "Name: Todd, Email: toddwilkinson@uwalumni.com\n",
      "Name: Jacob, Email: jacob.cadiente@gmail.com\n",
      "Name: Mai, Email: contact@missways.com\n",
      "Name: Junior, Email: jbernard21@live.seminolestate.edu\n",
      "Name: Ntenu tne, Email: mail@eugenio-mejia.com\n",
      "Name: Jase, Email: jasestadler@gmail.com\n",
      "Name: NEfn, Email: mail@eugenio-mejia.com\n",
      "Name: Shannon, Email: skschuettke@gmail.com\n",
      "Name: Tony, Email: mcgeheetony@yahoo.com\n",
      "Name: Tim, Email: tim@kairosxr.com\n",
      "Name: Evan, Email: evan@evanmterry.com\n",
      "Name: bob, Email: bob@hotmail.com\n",
      "Name: bobess, Email: bob@hotmail.com\n",
      "Name: Richard, Email: tnetinntn\n",
      "Name: Jose, Email: ontoientin\n"
     ]
    }
   ],
   "source": [
    "import requests\n",
    "import pandas as pd\n",
    "from flask import jsonify\n",
    "API_URL = 'http://lucerna-api.herokuapp.com/api'\n",
    "CLASSROOM_NAME = 'Tech & Beer'\n",
    "SCHOOL_NAME = 'Lucerna Studios'\n",
    "\n",
    "def all_emails(classroom_id, player_id_min=76664226):\n",
    "    r = requests.get('{}/classroom/{}/player'.format(API_URL, classroom.id))\n",
    "    if r.status_code != 200:\n",
    "        print('ERROR: Getting players in classroom failed.')\n",
    "        return -1\n",
    "    players = pd.DataFrame(r.json()['players'])\n",
    "    players = players[players.id > player_id_min]\n",
    "    for contact_id in players.contact_id:\n",
    "        r = requests.get('{}/contact/{}'.format(API_URL, contact_id))\n",
    "        if r.status_code != 200:\n",
    "            print('ERROR: Getting contacts for player failed.')\n",
    "            return -1\n",
    "        contact = r.json()\n",
    "        print(\"Name: {}, Email: {}\".format(contact['first_name'], contact['email']))\n",
    "\n",
    "all_emails(classroom.id)"
   ]
  },
  {
   "cell_type": "code",
   "execution_count": null,
   "metadata": {},
   "outputs": [],
   "source": []
  }
 ],
 "metadata": {
  "kernelspec": {
   "display_name": "Python 3",
   "language": "python",
   "name": "python3"
  },
  "language_info": {
   "codemirror_mode": {
    "name": "ipython",
    "version": 3
   },
   "file_extension": ".py",
   "mimetype": "text/x-python",
   "name": "python",
   "nbconvert_exporter": "python",
   "pygments_lexer": "ipython3",
   "version": "3.6.3"
  }
 },
 "nbformat": 4,
 "nbformat_minor": 2
}
