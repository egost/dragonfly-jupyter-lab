{
 "cells": [
  {
   "cell_type": "code",
   "execution_count": 1,
   "metadata": {},
   "outputs": [
    {
     "name": "stdout",
     "output_type": "stream",
     "text": [
      "38500\n"
     ]
    }
   ],
   "source": [
    "def digits(n):\n",
    "    return len(str(n))\n",
    "\n",
    "\n",
    "def primes(n):\n",
    "    \"\"\" Returns  a list of primes < n \"\"\"\n",
    "    sieve = [True] * n\n",
    "    for i in xrange(3, int(n**0.5)+1, 2):\n",
    "        if sieve[i]:\n",
    "            sieve[i*i::2*i] = [False] * ((n - i*i - 1)/(2*i) + 1)\n",
    "    return [2] + [i for i in xrange(3, n, 2) if sieve[i]]\n",
    "\n",
    "\n",
    "class Fraction:\n",
    "    def __init__(self):\n",
    "        self.num = 2\n",
    "        self.den = 4"
   ]
  },
  {
   "cell_type": "code",
   "execution_count": null,
   "metadata": {},
   "outputs": [],
   "source": []
  }
 ],
 "metadata": {
  "kernelspec": {
   "display_name": "Python 3",
   "language": "python",
   "name": "python3"
  },
  "language_info": {
   "codemirror_mode": {
    "name": "ipython",
    "version": 3
   },
   "file_extension": ".py",
   "mimetype": "text/x-python",
   "name": "python",
   "nbconvert_exporter": "python",
   "pygments_lexer": "ipython3",
   "version": "3.6.3"
  }
 },
 "nbformat": 4,
 "nbformat_minor": 2
}
