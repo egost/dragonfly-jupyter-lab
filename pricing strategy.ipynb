{
 "cells": [
  {
   "cell_type": "markdown",
   "metadata": {},
   "source": [
    "# SPARK Learning Platform\n",
    "https://www.lucernastudios.com/\n",
    "\n",
    "## Target Buyers\n",
    "\n",
    "### Teachers\n",
    "- Kits with 10 units\n",
    "- BYOD or Oculus Go\n",
    "- Control board\n",
    "- Worksheets\n",
    "\n",
    "**IN PROGRESS**\n",
    "\n",
    "### Parents / Students\n",
    "- Single devices\n",
    "- BYOD or Oculus Go\n",
    "\n",
    "**IN PROGRESS**"
   ]
  },
  {
   "cell_type": "markdown",
   "metadata": {},
   "source": [
    "### Edu Centers (Libraries, Museums, Rec Centers, etc)\n",
    "- Booth\n",
    "- Self-contained\n",
    "- Oculus Go\n",
    "- Banner (Marketing, or Partner marketing)\n",
    "- Kits with 2 devices"
   ]
  },
  {
   "cell_type": "code",
   "execution_count": 1,
   "metadata": {},
   "outputs": [],
   "source": [
    "import numpy as np\n",
    "import pandas as pd\n",
    "import matplotlib.pyplot as plt\n",
    "from ipywidgets.widgets import interact\n",
    "\n",
    "\n",
    "%matplotlib inline"
   ]
  },
  {
   "cell_type": "code",
   "execution_count": 2,
   "metadata": {},
   "outputs": [
    {
     "data": {
      "text/html": [
       "<div>\n",
       "<style scoped>\n",
       "    .dataframe tbody tr th:only-of-type {\n",
       "        vertical-align: middle;\n",
       "    }\n",
       "\n",
       "    .dataframe tbody tr th {\n",
       "        vertical-align: top;\n",
       "    }\n",
       "\n",
       "    .dataframe thead th {\n",
       "        text-align: right;\n",
       "    }\n",
       "</style>\n",
       "<table border=\"1\" class=\"dataframe\">\n",
       "  <thead>\n",
       "    <tr style=\"text-align: right;\">\n",
       "      <th></th>\n",
       "      <th>time</th>\n",
       "      <th>revenue</th>\n",
       "      <th>cost</th>\n",
       "      <th>net</th>\n",
       "    </tr>\n",
       "  </thead>\n",
       "  <tbody>\n",
       "    <tr>\n",
       "      <th>0</th>\n",
       "      <td>2018-01-01</td>\n",
       "      <td>300</td>\n",
       "      <td>510</td>\n",
       "      <td>-210</td>\n",
       "    </tr>\n",
       "    <tr>\n",
       "      <th>1</th>\n",
       "      <td>2018-02-01</td>\n",
       "      <td>100</td>\n",
       "      <td>10</td>\n",
       "      <td>90</td>\n",
       "    </tr>\n",
       "    <tr>\n",
       "      <th>2</th>\n",
       "      <td>2018-03-01</td>\n",
       "      <td>100</td>\n",
       "      <td>10</td>\n",
       "      <td>90</td>\n",
       "    </tr>\n",
       "    <tr>\n",
       "      <th>3</th>\n",
       "      <td>2018-04-01</td>\n",
       "      <td>100</td>\n",
       "      <td>10</td>\n",
       "      <td>90</td>\n",
       "    </tr>\n",
       "    <tr>\n",
       "      <th>4</th>\n",
       "      <td>2018-05-01</td>\n",
       "      <td>100</td>\n",
       "      <td>10</td>\n",
       "      <td>90</td>\n",
       "    </tr>\n",
       "    <tr>\n",
       "      <th>5</th>\n",
       "      <td>2018-06-01</td>\n",
       "      <td>100</td>\n",
       "      <td>10</td>\n",
       "      <td>90</td>\n",
       "    </tr>\n",
       "  </tbody>\n",
       "</table>\n",
       "</div>"
      ],
      "text/plain": [
       "        time  revenue  cost  net\n",
       "0 2018-01-01      300   510 -210\n",
       "1 2018-02-01      100    10   90\n",
       "2 2018-03-01      100    10   90\n",
       "3 2018-04-01      100    10   90\n",
       "4 2018-05-01      100    10   90\n",
       "5 2018-06-01      100    10   90"
      ]
     },
     "metadata": {},
     "output_type": "display_data"
    },
    {
     "name": "stdout",
     "output_type": "stream",
     "text": [
      "        time  revenue  cost  net\n",
      "0 2018-01-01      300   510 -210\n",
      "        time  revenue  cost  net\n",
      "1 2018-02-01      100    10   90\n",
      "        time  revenue  cost  net\n",
      "2 2018-03-01      100    10   90\n",
      "        time  revenue  cost  net\n",
      "3 2018-04-01      100    10   90\n",
      "        time  revenue  cost  net\n",
      "4 2018-05-01      100    10   90\n",
      "        time  revenue  cost  net\n",
      "5 2018-06-01      100    10   90\n",
      "Empty DataFrame\n",
      "Columns: [time, revenue, cost, net]\n",
      "Index: []\n",
      "Empty DataFrame\n",
      "Columns: [time, revenue, cost, net]\n",
      "Index: []\n",
      "Empty DataFrame\n",
      "Columns: [time, revenue, cost, net]\n",
      "Index: []\n",
      "Empty DataFrame\n",
      "Columns: [time, revenue, cost, net]\n",
      "Index: []\n",
      "Empty DataFrame\n",
      "Columns: [time, revenue, cost, net]\n",
      "Index: []\n",
      "Empty DataFrame\n",
      "Columns: [time, revenue, cost, net]\n",
      "Index: []\n"
     ]
    }
   ],
   "source": [
    "class Banner:\n",
    "    def __init__(self, initial_cost=500, recurring_cost=10, initial_revenue=200, recurring_revenue=100, start=pd.datetime(2018, 1, 1), length=6):\n",
    "        self.initial_cost = initial_cost\n",
    "        self.recurring_cost = recurring_cost\n",
    "        self.initial_revenue = initial_revenue\n",
    "        self.recurring_revenue = recurring_revenue\n",
    "        self.start = start\n",
    "        self.length = length    \n",
    "        \n",
    "    @property\n",
    "    def cost(self):\n",
    "        first_month = [self.initial_cost + self.recurring_cost]\n",
    "        following_months = [self.recurring_cost for i in range(0, len(self.time)-1)]\n",
    "        return pd.Series(first_month + following_months)\n",
    "    \n",
    "    @property\n",
    "    def revenue(self):\n",
    "        first_month = [self.initial_revenue + self.recurring_revenue]\n",
    "        following_months = [self.recurring_revenue for i in range(0, len(self.time)-1)]\n",
    "        return pd.Series(first_month + following_months)\n",
    "        \n",
    "    @property\n",
    "    def recurring_net(self):\n",
    "        return self.recurring_revenue - self.recurring_cost\n",
    "        \n",
    "    @property\n",
    "    def time(self):\n",
    "        return pd.date_range(self.start, freq='MS', periods=self.length).tolist()\n",
    "    \n",
    "    @property\n",
    "    def df(self):\n",
    "        return pd.DataFrame({\n",
    "            'time':self.time,\n",
    "            'revenue':self.revenue,\n",
    "            'cost':self.cost,\n",
    "            'net':self.revenue - self.cost\n",
    "        })\n",
    "    \n",
    "b = Banner()\n",
    "display(b.df)\n",
    "\n",
    "all_time = pd.date_range(pd.datetime(2018,1,1), freq = 'MS', periods=12).tolist()\n",
    "\n",
    "\n",
    "for t in all_time:\n",
    "    print(b.df[b.df.time == t])\n",
    "    "
   ]
  },
  {
   "cell_type": "markdown",
   "metadata": {},
   "source": [
    "## Revenue per Booth"
   ]
  },
  {
   "cell_type": "code",
   "execution_count": 3,
   "metadata": {
    "scrolled": false
   },
   "outputs": [
    {
     "data": {
      "application/vnd.jupyter.widget-view+json": {
       "model_id": "7a4e5ffd4b0a41b9af53fda17d669dca",
       "version_major": 2,
       "version_minor": 0
      },
      "text/plain": [
       "interactive(children=(IntSlider(value=8, description='library_subs', max=15, min=2, step=2), IntSlider(value=1…"
      ]
     },
     "metadata": {},
     "output_type": "display_data"
    }
   ],
   "source": [
    "@interact(library_subs=(2,15,2), booth_subs=(50,200,25), booth_init=(0,300,50), stand_cost=(400,700,50))\n",
    "def booth_revenue_plot(library_subs, booth_subs, booth_init, stand_cost):\n",
    "    booth = Banner(\n",
    "        initial_cost=stand_cost,\n",
    "        recurring_cost=10,\n",
    "        initial_revenue=booth_init,\n",
    "        recurring_revenue=library_subs + booth_subs,\n",
    "        start=pd.datetime(2018, 1, 1),\n",
    "        length=9\n",
    "    )\n",
    "        \n",
    "    time = np.array(range(0,booth.length,1))\n",
    "    monthly_revenue = booth.revenue.cumsum() - booth.cost.cumsum()\n",
    "    \n",
    "    _ = plt.plot(time, monthly_revenue)\n",
    "    plt.title('${:2.1f} Spark Learning Platform Subs\\n${:3.0f} Booth Subs\\n${:3.0f} Booth Down Payment\\n${:3.0f} Stand Cost'.format(library_subs, booth_subs, booth_init, stand_cost))\n",
    "    plt.ylabel('Revenue ($)')\n",
    "    # plt.ylim(0, s.avg_sale.max() + 50)\n",
    "    plt.xlabel('Months')\n",
    "    plt.grid()\n",
    "    plt.rcParams[\"figure.figsize\"] = (10,5)"
   ]
  },
  {
   "cell_type": "markdown",
   "metadata": {},
   "source": [
    "---\n",
    "\n",
    "# Marketing and Growth\n",
    "\n",
    "- Traffic\n",
    " - Melrose VR Center\n",
    "   - 30 walk-in students every day\n",
    "   - 400 people see banner\n",
    " - Colonialtown - ASP\n",
    "   - Gifted\n",
    "   - Limited games\n",
    "   - 400 children every day (same kids)\n",
    "   - Parents pick them up every day\n",
    " - Colonial - REC Center\n",
    "   - 40 kids every day (mixed recurrence)\n",
    "   - 400 kids for events every week (new kids)\n",
    " - Prep Time Education\n",
    "   - 20 new kids every month (per school)\n",
    "   - 2 new schools per month (total of 10)"
   ]
  },
  {
   "cell_type": "code",
   "execution_count": 53,
   "metadata": {},
   "outputs": [],
   "source": [
    "class Ad:\n",
    "    def __init__(self, impressions=10, conversion_rate=0.1, cycle=3, start=pd.datetime(2018, 1, 1), length=6):\n",
    "        self._impressions = impressions\n",
    "        self.conversion_rate = conversion_rate\n",
    "        self.cycle = cycle\n",
    "        self.start = start\n",
    "        self.length = length\n",
    "        \n",
    "    @property\n",
    "    def impressions(self):\n",
    "        months = [(self._impressions if not (i%self.cycle) else 0 ) for i in range(0, len(self.time))]\n",
    "        return pd.Series(months)\n",
    "\n",
    "    @property\n",
    "    def conversions(self):\n",
    "        return self.impressions * self.conversion_rate\n",
    "\n",
    "    @property\n",
    "    def date_range(self):\n",
    "        return pd.date_range(self.start, freq='MS', periods=self.length).tolist()\n",
    "\n",
    "    @property\n",
    "    def df(self):\n",
    "        return pd.DataFrame({\n",
    "            'time':self.time,\n",
    "            'impressions':self.impressions,\n",
    "            'conversions':self.conversions,\n",
    "        })"
   ]
  },
  {
   "cell_type": "markdown",
   "metadata": {},
   "source": [
    "## Campaigns"
   ]
  },
  {
   "cell_type": "code",
   "execution_count": 45,
   "metadata": {},
   "outputs": [],
   "source": [
    "campaigns = {\n",
    "    'prep_time_ed_round1' : Ad(impressions=20, conversion_rate=0.10, cycle=3, start=pd.datetime(2018,1,1), length=12),\n",
    "    'prep_time_ed_round2' : Ad(impressions=20*3, conversion_rate=0.10, cycle=3, start=pd.datetime(2018,3,1), length=9),\n",
    "    'prep_time_ed_round3' : Ad(impressions=20*6, conversion_rate=0.10, cycle=3, start=pd.datetime(2018,6,1), length=6),\n",
    "    'melrose_vr_room' : Ad(impressions=20*7*4, conversion_rate=0.05, cycle=1, start=pd.datetime(2018,1,1), length=12),\n",
    "    'melrose_vr_display' : Ad(impressions=400*7*4, conversion_rate=0.02, cycle=1, start=pd.datetime(2018,1,1), length=12),\n",
    "    'colonialtown_rec_daily' : Ad(impressions=40*7*4, conversion_rate=0.10, cycle=1, start=pd.datetime(2018,1,1), length=12),\n",
    "    'colonialtown_rec_events' : Ad(impressions=400*4, conversion_rate=0.10, cycle=1, start=pd.datetime(2018,1,1), length=12),\n",
    "    'colonial_asp' : Ad(impressions=400, conversion_rate=0.20, cycle=6, start=pd.datetime(2018,1,1), length=12),\n",
    "    # 'FETC' : Ad(impressions=40000, conversion_rate=0.01, cycle=1, start=pd.datetime(2018,3,1), length=1),\n",
    "}\n",
    "\n",
    "\n",
    "def end_date(campaigns, start_date):\n",
    "    end = start_date\n",
    "\n",
    "    for c in campaigns.values():\n",
    "        if max(c.date_range) > end:\n",
    "            end = max(c.time)\n",
    "    \n",
    "    return end\n",
    "\n",
    "    \n",
    "time = pd.date_range(pd.datetime(2018,1,1), end_date(campaigns, pd.datetime(2018,1,1)), freq='MS').tolist()\n",
    "\n",
    "\n",
    "def simple_plot(x, y, x_label, y_label):\n",
    "    plt.scatter(x, y)\n",
    "    plt.plot(x, y)\n",
    "    plt.grid()\n",
    "    plt.rcParams['figure.figsize'] = (10,5)\n",
    "    plt.xlabel(x_label)\n",
    "    plt.ylabel(y_label)\n",
    "    plt.ylim(y.min() if y.min() < 0 else 0, y.max() + y.max()/8)"
   ]
  },
  {
   "cell_type": "markdown",
   "metadata": {},
   "source": [
    "## Impressions"
   ]
  },
  {
   "cell_type": "code",
   "execution_count": 71,
   "metadata": {},
   "outputs": [
    {
     "name": "stdout",
     "output_type": "stream",
     "text": [
      "0     20\n",
      "1      0\n",
      "2      0\n",
      "3     20\n",
      "4      0\n",
      "5      0\n",
      "6     20\n",
      "7      0\n",
      "8      0\n",
      "9     20\n",
      "10     0\n",
      "11     0\n",
      "dtype: int64\n",
      "0    60\n",
      "1     0\n",
      "2     0\n",
      "3    60\n",
      "4     0\n",
      "5     0\n",
      "6    60\n",
      "7     0\n",
      "8     0\n",
      "dtype: int64\n",
      "0    120\n",
      "1      0\n",
      "2      0\n",
      "3    120\n",
      "4      0\n",
      "5      0\n",
      "dtype: int64\n",
      "0     560\n",
      "1     560\n",
      "2     560\n",
      "3     560\n",
      "4     560\n",
      "5     560\n",
      "6     560\n",
      "7     560\n",
      "8     560\n",
      "9     560\n",
      "10    560\n",
      "11    560\n",
      "dtype: int64\n",
      "0     11200\n",
      "1     11200\n",
      "2     11200\n",
      "3     11200\n",
      "4     11200\n",
      "5     11200\n",
      "6     11200\n",
      "7     11200\n",
      "8     11200\n",
      "9     11200\n",
      "10    11200\n",
      "11    11200\n",
      "dtype: int64\n",
      "0     1120\n",
      "1     1120\n",
      "2     1120\n",
      "3     1120\n",
      "4     1120\n",
      "5     1120\n",
      "6     1120\n",
      "7     1120\n",
      "8     1120\n",
      "9     1120\n",
      "10    1120\n",
      "11    1120\n",
      "dtype: int64\n",
      "0     1600\n",
      "1     1600\n",
      "2     1600\n",
      "3     1600\n",
      "4     1600\n",
      "5     1600\n",
      "6     1600\n",
      "7     1600\n",
      "8     1600\n",
      "9     1600\n",
      "10    1600\n",
      "11    1600\n",
      "dtype: int64\n",
      "0     400\n",
      "1       0\n",
      "2       0\n",
      "3       0\n",
      "4       0\n",
      "5       0\n",
      "6     400\n",
      "7       0\n",
      "8       0\n",
      "9       0\n",
      "10      0\n",
      "11      0\n",
      "dtype: int64\n"
     ]
    }
   ],
   "source": [
    "s = pd.Series()\n",
    "for c in campaigns.values():\n",
    "    print(c.impressions)\n",
    "\n",
    "\n",
    "\n",
    "#simple_plot(time, data, 'Month', 'Impressions (thousands)')"
   ]
  },
  {
   "cell_type": "markdown",
   "metadata": {},
   "source": [
    "## Conversions"
   ]
  },
  {
   "cell_type": "code",
   "execution_count": 47,
   "metadata": {},
   "outputs": [
    {
     "data": {
      "image/png": "[encoded data removed]",
      "text/plain": [
       "<Figure size 720x360 with 1 Axes>"
      ]
     },
     "metadata": {},
     "output_type": "display_data"
    }
   ],
   "source": [
    "conversions = sum([c.conversions for c in campaigns.values()])\n",
    "\n",
    "simple_plot(time, conversions, 'Month', 'Conversions')"
   ]
  },
  {
   "cell_type": "markdown",
   "metadata": {},
   "source": [
    "## Users"
   ]
  },
  {
   "cell_type": "code",
   "execution_count": 48,
   "metadata": {},
   "outputs": [
    {
     "data": {
      "image/png": "[encoded data removed]",
      "text/plain": [
       "<Figure size 720x360 with 1 Axes>"
      ]
     },
     "metadata": {},
     "output_type": "display_data"
    }
   ],
   "source": [
    "users = sum([c.conversions.cumsum() for c in campaigns.values()])\n",
    "\n",
    "simple_plot(time, users, 'Month', 'Users')"
   ]
  },
  {
   "cell_type": "markdown",
   "metadata": {},
   "source": [
    "# Revenue"
   ]
  },
  {
   "cell_type": "code",
   "execution_count": 49,
   "metadata": {},
   "outputs": [
    {
     "data": {
      "image/png": "[encoded data removed]",
      "text/plain": [
       "<Figure size 720x360 with 1 Axes>"
      ]
     },
     "metadata": {},
     "output_type": "display_data"
    }
   ],
   "source": [
    "revenue = users * 5\n",
    "\n",
    "simple_plot(time, revenue, 'Month', 'Revenue ($)')"
   ]
  },
  {
   "cell_type": "markdown",
   "metadata": {},
   "source": [
    "# Single Game Revenue"
   ]
  },
  {
   "cell_type": "code",
   "execution_count": 52,
   "metadata": {},
   "outputs": [
    {
     "data": {
      "image/png": "[encoded data removed]",
      "text/plain": [
       "<Figure size 720x360 with 1 Axes>"
      ]
     },
     "metadata": {},
     "output_type": "display_data"
    }
   ],
   "source": [
    "single_game_revenue= revenue * 0.15 / 3\n",
    "\n",
    "simple_plot(time, single_game_revenue, 'Month', 'Single Game Revenue ($)')"
   ]
  },
  {
   "cell_type": "code",
   "execution_count": null,
   "metadata": {},
   "outputs": [],
   "source": []
  },
  {
   "cell_type": "code",
   "execution_count": null,
   "metadata": {},
   "outputs": [],
   "source": []
  }
 ],
 "metadata": {
  "kernelspec": {
   "display_name": "Python 3",
   "language": "python",
   "name": "python3"
  },
  "language_info": {
   "codemirror_mode": {
    "name": "ipython",
    "version": 3
   },
   "file_extension": ".py",
   "mimetype": "text/x-python",
   "name": "python",
   "nbconvert_exporter": "python",
   "pygments_lexer": "ipython3",
   "version": "3.6.3"
  }
 },
 "nbformat": 4,
 "nbformat_minor": 2
}
